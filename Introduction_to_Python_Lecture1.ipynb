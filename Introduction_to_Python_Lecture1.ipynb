{
 "cells": [
  {
   "cell_type": "markdown",
   "id": "dd700be4",
   "metadata": {
    "id": "dd700be4"
   },
   "source": [
    "\n",
    "## Setting Up the Python Environment\n",
    "\n",
    "To start working with Python, you need to have Python installed on your system. Python can be downloaded from the official website [python.org](https://www.python.org/). Additionally, tools like Jupyter Notebook or Google Colab are great for writing and testing Python code interactively.\n"
   ]
  },
  {
   "cell_type": "markdown",
   "id": "147843ab",
   "metadata": {
    "id": "147843ab"
   },
   "source": [
    "\n",
    "## Basic Data Types and Operations\n",
    "\n",
    "Python supports various data types like integers, floats, strings, and booleans. Let's explore these with some examples.\n"
   ]
  },
  {
   "cell_type": "markdown",
   "id": "ac7AmnTsakjF",
   "metadata": {
    "id": "ac7AmnTsakjF"
   },
   "source": [
    "Commonly used numerical and string types are str, floar, complex, int (arbitrarily large).\n",
    "\n",
    "You can change type with an explicit cast."
   ]
  },
  {
   "cell_type": "code",
   "execution_count": 1,
   "id": "4fe6c094",
   "metadata": {
    "colab": {
     "base_uri": "https://localhost:8080/"
    },
    "id": "4fe6c094",
    "outputId": "cc0604d6-d667-411d-8971-6d15822f26c6"
   },
   "outputs": [
    {
     "name": "stdout",
     "output_type": "stream",
     "text": [
      "Integer example: 5\n",
      "Float example: 5.5\n",
      "String example: Hello, Python!\n",
      "Boolean example: False\n",
      "x =  13\n"
     ]
    }
   ],
   "source": [
    "# Integer example\n",
    "a = 5\n",
    "print(\"Integer example:\", a)\n",
    "\n",
    "# Float example\n",
    "b = 5.5\n",
    "print(\"Float example:\", b)\n",
    "\n",
    "# String example\n",
    "c = \"Hello, Python!\"\n",
    "print(\"String example:\", c)\n",
    "\n",
    "# Boolean example\n",
    "d = a > 10\n",
    "print(\"Boolean example:\", d)\n",
    "\n",
    "x = int(13.6)\n",
    "print('x = ', x)"
   ]
  },
  {
   "cell_type": "markdown",
   "id": "3MVXpVEtbN0o",
   "metadata": {
    "id": "3MVXpVEtbN0o"
   },
   "source": [
    "You can use the inline help facility:"
   ]
  },
  {
   "cell_type": "code",
   "execution_count": 2,
   "id": "3Q0oHUNobIAr",
   "metadata": {
    "colab": {
     "base_uri": "https://localhost:8080/"
    },
    "id": "3Q0oHUNobIAr",
    "outputId": "01c90464-77ef-4568-f0fd-8652b2e31f18"
   },
   "outputs": [
    {
     "name": "stdout",
     "output_type": "stream",
     "text": [
      "Help on class int in module builtins:\n",
      "\n",
      "class int(object)\n",
      " |  int([x]) -> integer\n",
      " |  int(x, base=10) -> integer\n",
      " |  \n",
      " |  Convert a number or string to an integer, or return 0 if no arguments\n",
      " |  are given.  If x is a number, return x.__int__().  For floating point\n",
      " |  numbers, this truncates towards zero.\n",
      " |  \n",
      " |  If x is not a number or if base is given, then x must be a string,\n",
      " |  bytes, or bytearray instance representing an integer literal in the\n",
      " |  given base.  The literal can be preceded by '+' or '-' and be surrounded\n",
      " |  by whitespace.  The base defaults to 10.  Valid bases are 0 and 2-36.\n",
      " |  Base 0 means to interpret the base from the string as an integer literal.\n",
      " |  >>> int('0b100', base=0)\n",
      " |  4\n",
      " |  \n",
      " |  Built-in subclasses:\n",
      " |      bool\n",
      " |  \n",
      " |  Methods defined here:\n",
      " |  \n",
      " |  __abs__(self, /)\n",
      " |      abs(self)\n",
      " |  \n",
      " |  __add__(self, value, /)\n",
      " |      Return self+value.\n",
      " |  \n",
      " |  __and__(self, value, /)\n",
      " |      Return self&value.\n",
      " |  \n",
      " |  __bool__(self, /)\n",
      " |      True if self else False\n",
      " |  \n",
      " |  __ceil__(...)\n",
      " |      Ceiling of an Integral returns itself.\n",
      " |  \n",
      " |  __divmod__(self, value, /)\n",
      " |      Return divmod(self, value).\n",
      " |  \n",
      " |  __eq__(self, value, /)\n",
      " |      Return self==value.\n",
      " |  \n",
      " |  __float__(self, /)\n",
      " |      float(self)\n",
      " |  \n",
      " |  __floor__(...)\n",
      " |      Flooring an Integral returns itself.\n",
      " |  \n",
      " |  __floordiv__(self, value, /)\n",
      " |      Return self//value.\n",
      " |  \n",
      " |  __format__(self, format_spec, /)\n",
      " |      Default object formatter.\n",
      " |  \n",
      " |  __ge__(self, value, /)\n",
      " |      Return self>=value.\n",
      " |  \n",
      " |  __getattribute__(self, name, /)\n",
      " |      Return getattr(self, name).\n",
      " |  \n",
      " |  __getnewargs__(self, /)\n",
      " |  \n",
      " |  __gt__(self, value, /)\n",
      " |      Return self>value.\n",
      " |  \n",
      " |  __hash__(self, /)\n",
      " |      Return hash(self).\n",
      " |  \n",
      " |  __index__(self, /)\n",
      " |      Return self converted to an integer, if self is suitable for use as an index into a list.\n",
      " |  \n",
      " |  __int__(self, /)\n",
      " |      int(self)\n",
      " |  \n",
      " |  __invert__(self, /)\n",
      " |      ~self\n",
      " |  \n",
      " |  __le__(self, value, /)\n",
      " |      Return self<=value.\n",
      " |  \n",
      " |  __lshift__(self, value, /)\n",
      " |      Return self<<value.\n",
      " |  \n",
      " |  __lt__(self, value, /)\n",
      " |      Return self<value.\n",
      " |  \n",
      " |  __mod__(self, value, /)\n",
      " |      Return self%value.\n",
      " |  \n",
      " |  __mul__(self, value, /)\n",
      " |      Return self*value.\n",
      " |  \n",
      " |  __ne__(self, value, /)\n",
      " |      Return self!=value.\n",
      " |  \n",
      " |  __neg__(self, /)\n",
      " |      -self\n",
      " |  \n",
      " |  __or__(self, value, /)\n",
      " |      Return self|value.\n",
      " |  \n",
      " |  __pos__(self, /)\n",
      " |      +self\n",
      " |  \n",
      " |  __pow__(self, value, mod=None, /)\n",
      " |      Return pow(self, value, mod).\n",
      " |  \n",
      " |  __radd__(self, value, /)\n",
      " |      Return value+self.\n",
      " |  \n",
      " |  __rand__(self, value, /)\n",
      " |      Return value&self.\n",
      " |  \n",
      " |  __rdivmod__(self, value, /)\n",
      " |      Return divmod(value, self).\n",
      " |  \n",
      " |  __repr__(self, /)\n",
      " |      Return repr(self).\n",
      " |  \n",
      " |  __rfloordiv__(self, value, /)\n",
      " |      Return value//self.\n",
      " |  \n",
      " |  __rlshift__(self, value, /)\n",
      " |      Return value<<self.\n",
      " |  \n",
      " |  __rmod__(self, value, /)\n",
      " |      Return value%self.\n",
      " |  \n",
      " |  __rmul__(self, value, /)\n",
      " |      Return value*self.\n",
      " |  \n",
      " |  __ror__(self, value, /)\n",
      " |      Return value|self.\n",
      " |  \n",
      " |  __round__(...)\n",
      " |      Rounding an Integral returns itself.\n",
      " |      \n",
      " |      Rounding with an ndigits argument also returns an integer.\n",
      " |  \n",
      " |  __rpow__(self, value, mod=None, /)\n",
      " |      Return pow(value, self, mod).\n",
      " |  \n",
      " |  __rrshift__(self, value, /)\n",
      " |      Return value>>self.\n",
      " |  \n",
      " |  __rshift__(self, value, /)\n",
      " |      Return self>>value.\n",
      " |  \n",
      " |  __rsub__(self, value, /)\n",
      " |      Return value-self.\n",
      " |  \n",
      " |  __rtruediv__(self, value, /)\n",
      " |      Return value/self.\n",
      " |  \n",
      " |  __rxor__(self, value, /)\n",
      " |      Return value^self.\n",
      " |  \n",
      " |  __sizeof__(self, /)\n",
      " |      Returns size in memory, in bytes.\n",
      " |  \n",
      " |  __sub__(self, value, /)\n",
      " |      Return self-value.\n",
      " |  \n",
      " |  __truediv__(self, value, /)\n",
      " |      Return self/value.\n",
      " |  \n",
      " |  __trunc__(...)\n",
      " |      Truncating an Integral returns itself.\n",
      " |  \n",
      " |  __xor__(self, value, /)\n",
      " |      Return self^value.\n",
      " |  \n",
      " |  as_integer_ratio(self, /)\n",
      " |      Return integer ratio.\n",
      " |      \n",
      " |      Return a pair of integers, whose ratio is exactly equal to the original int\n",
      " |      and with a positive denominator.\n",
      " |      \n",
      " |      >>> (10).as_integer_ratio()\n",
      " |      (10, 1)\n",
      " |      >>> (-10).as_integer_ratio()\n",
      " |      (-10, 1)\n",
      " |      >>> (0).as_integer_ratio()\n",
      " |      (0, 1)\n",
      " |  \n",
      " |  bit_count(self, /)\n",
      " |      Number of ones in the binary representation of the absolute value of self.\n",
      " |      \n",
      " |      Also known as the population count.\n",
      " |      \n",
      " |      >>> bin(13)\n",
      " |      '0b1101'\n",
      " |      >>> (13).bit_count()\n",
      " |      3\n",
      " |  \n",
      " |  bit_length(self, /)\n",
      " |      Number of bits necessary to represent self in binary.\n",
      " |      \n",
      " |      >>> bin(37)\n",
      " |      '0b100101'\n",
      " |      >>> (37).bit_length()\n",
      " |      6\n",
      " |  \n",
      " |  conjugate(...)\n",
      " |      Returns self, the complex conjugate of any int.\n",
      " |  \n",
      " |  to_bytes(self, /, length=1, byteorder='big', *, signed=False)\n",
      " |      Return an array of bytes representing an integer.\n",
      " |      \n",
      " |      length\n",
      " |        Length of bytes object to use.  An OverflowError is raised if the\n",
      " |        integer is not representable with the given number of bytes.  Default\n",
      " |        is length 1.\n",
      " |      byteorder\n",
      " |        The byte order used to represent the integer.  If byteorder is 'big',\n",
      " |        the most significant byte is at the beginning of the byte array.  If\n",
      " |        byteorder is 'little', the most significant byte is at the end of the\n",
      " |        byte array.  To request the native byte order of the host system, use\n",
      " |        `sys.byteorder' as the byte order value.  Default is to use 'big'.\n",
      " |      signed\n",
      " |        Determines whether two's complement is used to represent the integer.\n",
      " |        If signed is False and a negative integer is given, an OverflowError\n",
      " |        is raised.\n",
      " |  \n",
      " |  ----------------------------------------------------------------------\n",
      " |  Class methods defined here:\n",
      " |  \n",
      " |  from_bytes(bytes, byteorder='big', *, signed=False) from builtins.type\n",
      " |      Return the integer represented by the given array of bytes.\n",
      " |      \n",
      " |      bytes\n",
      " |        Holds the array of bytes to convert.  The argument must either\n",
      " |        support the buffer protocol or be an iterable object producing bytes.\n",
      " |        Bytes and bytearray are examples of built-in objects that support the\n",
      " |        buffer protocol.\n",
      " |      byteorder\n",
      " |        The byte order used to represent the integer.  If byteorder is 'big',\n",
      " |        the most significant byte is at the beginning of the byte array.  If\n",
      " |        byteorder is 'little', the most significant byte is at the end of the\n",
      " |        byte array.  To request the native byte order of the host system, use\n",
      " |        `sys.byteorder' as the byte order value.  Default is to use 'big'.\n",
      " |      signed\n",
      " |        Indicates whether two's complement is used to represent the integer.\n",
      " |  \n",
      " |  ----------------------------------------------------------------------\n",
      " |  Static methods defined here:\n",
      " |  \n",
      " |  __new__(*args, **kwargs) from builtins.type\n",
      " |      Create and return a new object.  See help(type) for accurate signature.\n",
      " |  \n",
      " |  ----------------------------------------------------------------------\n",
      " |  Data descriptors defined here:\n",
      " |  \n",
      " |  denominator\n",
      " |      the denominator of a rational number in lowest terms\n",
      " |  \n",
      " |  imag\n",
      " |      the imaginary part of a complex number\n",
      " |  \n",
      " |  numerator\n",
      " |      the numerator of a rational number in lowest terms\n",
      " |  \n",
      " |  real\n",
      " |      the real part of a complex number\n",
      "\n"
     ]
    }
   ],
   "source": [
    "help(int)"
   ]
  },
  {
   "cell_type": "code",
   "execution_count": 3,
   "id": "33c8bafc-837e-41d3-a6e9-1c6edd6023c6",
   "metadata": {},
   "outputs": [
    {
     "name": "stdout",
     "output_type": "stream",
     "text": [
      "Help on built-in function print in module builtins:\n",
      "\n",
      "print(*args, sep=' ', end='\\n', file=None, flush=False)\n",
      "    Prints the values to a stream, or to sys.stdout by default.\n",
      "    \n",
      "    sep\n",
      "      string inserted between values, default a space.\n",
      "    end\n",
      "      string appended after the last value, default a newline.\n",
      "    file\n",
      "      a file-like object (stream); defaults to the current sys.stdout.\n",
      "    flush\n",
      "      whether to forcibly flush the stream.\n",
      "\n"
     ]
    }
   ],
   "source": [
    "help(print)"
   ]
  },
  {
   "cell_type": "markdown",
   "id": "7b16c16d",
   "metadata": {
    "id": "7b16c16d"
   },
   "source": [
    "\n",
    "## Data Structures in Python\n",
    "\n",
    "Python provides various built-in data structures like lists, tuples, dictionaries, and sets that are used to store collections of data.\n"
   ]
  },
  {
   "cell_type": "markdown",
   "id": "80a173fd",
   "metadata": {
    "id": "80a173fd"
   },
   "source": [
    "### Tuples\n",
    "\n",
    "sequence of python objects\n",
    "\n",
    "fixed length\n",
    "\n",
    "immutable\n",
    "\n",
    "to create a tuple simply separate its elements with a \",\"\n"
   ]
  },
  {
   "cell_type": "code",
   "execution_count": 4,
   "id": "a5f97289",
   "metadata": {
    "colab": {
     "base_uri": "https://localhost:8080/"
    },
    "id": "a5f97289",
    "outputId": "5d48a1bc-bcf6-457e-8217-a2ab805d64cb"
   },
   "outputs": [
    {
     "name": "stdout",
     "output_type": "stream",
     "text": [
      "('lec23', 'lec24', 'lec25')\n",
      "3\n"
     ]
    }
   ],
   "source": [
    "a = 'lec23', 'lec24', 'lec25'\n",
    "print(a)\n",
    "print(len(a))"
   ]
  },
  {
   "cell_type": "code",
   "execution_count": 5,
   "id": "7d2dbcf4",
   "metadata": {
    "colab": {
     "base_uri": "https://localhost:8080/"
    },
    "id": "7d2dbcf4",
    "outputId": "07481b9c-15d5-4066-e089-e2eeaa2f8d22"
   },
   "outputs": [
    {
     "name": "stdout",
     "output_type": "stream",
     "text": [
      "('paul', 24, 1.75, 85.3)\n"
     ]
    }
   ],
   "source": [
    "b = 'paul', 24, 1.75, 85.3\n",
    "print(b)"
   ]
  },
  {
   "cell_type": "code",
   "execution_count": 6,
   "id": "62b80ec8",
   "metadata": {
    "colab": {
     "base_uri": "https://localhost:8080/"
    },
    "id": "62b80ec8",
    "outputId": "8a28b55e-9fce-4034-a5e0-db325dbc48c5"
   },
   "outputs": [
    {
     "name": "stdout",
     "output_type": "stream",
     "text": [
      "85.3\n",
      "<class 'int'>\n"
     ]
    }
   ],
   "source": [
    "print(b[3])\n",
    "print(type(b[1]))"
   ]
  },
  {
   "cell_type": "markdown",
   "id": "010dcec8",
   "metadata": {
    "id": "010dcec8"
   },
   "source": [
    "\n",
    "### Lists\n",
    "\n",
    "Lists are also a collection of objects but unlike tuples they are mutable\n",
    "\n",
    "variable length\n",
    "\n",
    "each element can be modified\n"
   ]
  },
  {
   "cell_type": "code",
   "execution_count": 7,
   "id": "38e7ec89",
   "metadata": {
    "colab": {
     "base_uri": "https://localhost:8080/"
    },
    "id": "38e7ec89",
    "outputId": "6820f883-70ba-4e2e-e690-7eb1e17d6104"
   },
   "outputs": [
    {
     "name": "stdout",
     "output_type": "stream",
     "text": [
      "[2, 3, 4]\n",
      "4\n"
     ]
    }
   ],
   "source": [
    "alist = [2,3,4]\n",
    "print(alist)\n",
    "print(alist[2])"
   ]
  },
  {
   "cell_type": "code",
   "execution_count": 8,
   "id": "8ed1db1f-6e31-4992-a6f7-0023f6017d91",
   "metadata": {},
   "outputs": [
    {
     "name": "stdout",
     "output_type": "stream",
     "text": [
      "[2, 3, -3]\n"
     ]
    }
   ],
   "source": [
    "alist[2] = -3\n",
    "print(alist)"
   ]
  },
  {
   "cell_type": "code",
   "execution_count": 9,
   "id": "24f476a8",
   "metadata": {
    "colab": {
     "base_uri": "https://localhost:8080/"
    },
    "id": "24f476a8",
    "outputId": "473f1b6e-3b6a-4174-e755-c6e7b0a4a810"
   },
   "outputs": [
    {
     "data": {
      "text/plain": [
       "4"
      ]
     },
     "execution_count": 9,
     "metadata": {},
     "output_type": "execute_result"
    }
   ],
   "source": [
    "grades = [30, 22, 24, 23, 30, 18, 24, 27, 28, 28, 25, 24, 22, 30, 30, 18, 20]\n",
    "grades.count(30)"
   ]
  },
  {
   "cell_type": "markdown",
   "id": "5315f1e3",
   "metadata": {
    "id": "5315f1e3"
   },
   "source": [
    "a list is created using the [] operator or the explicit type list\n",
    "\n",
    "a tuple is created with the () operator or the explicit type tuple\n",
    "\n",
    "You can create a list from a tuple by explicit conversion; lists are used in data analysis to store data from iterators or generators.\n",
    "\n",
    "You can combine lists, sorting lists, slincing lists, ..."
   ]
  },
  {
   "cell_type": "code",
   "execution_count": 10,
   "id": "d5e0840e",
   "metadata": {
    "colab": {
     "base_uri": "https://localhost:8080/"
    },
    "id": "d5e0840e",
    "outputId": "c69ee261-75c9-47ad-e7eb-b6ac6b03bca9"
   },
   "outputs": [
    {
     "name": "stdout",
     "output_type": "stream",
     "text": [
      "[-3, -1, 1, 3, 5, 7, 9]\n",
      "(-3, -1, 1, 3, 5, 7, 9)\n"
     ]
    }
   ],
   "source": [
    "values  = list(range(-3,10, 2))\n",
    "print(values)\n",
    "print(tuple(values))"
   ]
  },
  {
   "cell_type": "code",
   "execution_count": 11,
   "id": "a49912f0-6836-4e82-b4bc-3ef150caf228",
   "metadata": {},
   "outputs": [
    {
     "name": "stdout",
     "output_type": "stream",
     "text": [
      "Combined List: [-3, -1, 1, 3, 5, 7, 9, -4, -2.3, 6]\n"
     ]
    }
   ],
   "source": [
    "other_values = [-4, -2.3, 6]\n",
    "combined_list = values + other_values\n",
    "print(\"Combined List:\", combined_list)"
   ]
  },
  {
   "cell_type": "code",
   "execution_count": 12,
   "id": "55c60722-ad81-491a-abb0-c3da84db5aef",
   "metadata": {},
   "outputs": [
    {
     "name": "stdout",
     "output_type": "stream",
     "text": [
      "Sorted List: [-4, -3, -2.3, -1, 1, 3, 5, 6, 7, 9]\n"
     ]
    }
   ],
   "source": [
    "combined_list.sort()\n",
    "print(\"Sorted List:\", combined_list)"
   ]
  },
  {
   "cell_type": "code",
   "execution_count": 13,
   "id": "e4c84001-9dbe-4885-a1d6-d9602e19f174",
   "metadata": {},
   "outputs": [
    {
     "name": "stdout",
     "output_type": "stream",
     "text": [
      "Reversed Sorted List: [9, 7, 6, 5, 3, 1, -1, -2.3, -3, -4]\n"
     ]
    }
   ],
   "source": [
    "new_list = sorted(combined_list, reverse=True)  \n",
    "print(\"Reversed Sorted List:\", new_list)"
   ]
  },
  {
   "cell_type": "code",
   "execution_count": 14,
   "id": "97b150eb-9d4d-417e-aadb-639489169053",
   "metadata": {},
   "outputs": [
    {
     "name": "stdout",
     "output_type": "stream",
     "text": [
      "First three elements: [9, 7, 6]\n"
     ]
    }
   ],
   "source": [
    "# Taking the first three elements\n",
    "print(\"First three elements:\", new_list[:3])"
   ]
  },
  {
   "cell_type": "code",
   "execution_count": 15,
   "id": "56c1a4b0-61a7-4f81-9526-fa04fe0319bb",
   "metadata": {},
   "outputs": [
    {
     "name": "stdout",
     "output_type": "stream",
     "text": [
      "Last two elements: [-3, -4]\n"
     ]
    }
   ],
   "source": [
    "# Taking the last two elements\n",
    "print(\"Last two elements:\", new_list[-2:])"
   ]
  },
  {
   "cell_type": "code",
   "execution_count": 16,
   "id": "56b2cc1d-6aa8-422f-bea3-d37f39f5fece",
   "metadata": {},
   "outputs": [
    {
     "name": "stdout",
     "output_type": "stream",
     "text": [
      "Every second element: [9, 6, 3, -1, -3]\n"
     ]
    }
   ],
   "source": [
    "# Every second element of the list\n",
    "print(\"Every second element:\", new_list[::2])"
   ]
  },
  {
   "cell_type": "markdown",
   "id": "BmiFn5KKVp5i",
   "metadata": {
    "id": "BmiFn5KKVp5i"
   },
   "source": [
    "### Dictionaries\n",
    "\n",
    "The syntax is\n",
    "\n",
    "{ key : value, key: value, ... }\n",
    "\n",
    "Keys are unique\n",
    "\n",
    "There can be only one value for a given key in a dict made of key:value\n",
    "\n",
    "If you need more values for a key, then what you want is a dictionary of key:[value]. Otherwise, if there is just one value, and the key already is used, its value will be updated. This is similar to modifying elements of a list."
   ]
  },
  {
   "cell_type": "code",
   "execution_count": 17,
   "id": "-LVDPNnsVnzH",
   "metadata": {
    "colab": {
     "base_uri": "https://localhost:8080/"
    },
    "id": "-LVDPNnsVnzH",
    "outputId": "10e03c0d-6361-4687-fdf7-9bdbb5159cbd"
   },
   "outputs": [
    {
     "name": "stdout",
     "output_type": "stream",
     "text": [
      "{'rio': {'name': 'john', 'age': 23, 'id': 123456}, 'nairobi': {'name': 'susan', 'id': 123123, 'age': 21}, 'tokyo': {'name': 'maria', 'id': 123651, 'age': 24}}\n"
     ]
    }
   ],
   "source": [
    "students = { 'rio': {'name':'john', 'age':23, 'id':123456}, 'nairobi':{'name':'susan', 'id':123123, 'age':21},  'tokyo':{'name':'maria', 'id':123651, 'age':24}}\n",
    "print(students)"
   ]
  },
  {
   "cell_type": "code",
   "execution_count": 18,
   "id": "7dAPYBNYWJUP",
   "metadata": {
    "colab": {
     "base_uri": "https://localhost:8080/"
    },
    "id": "7dAPYBNYWJUP",
    "outputId": "b8d24505-c7f7-4d8d-a045-a41979198448"
   },
   "outputs": [
    {
     "data": {
      "text/plain": [
       "{'boson': ['Z', 'gluon', 'W', 'photon'],\n",
       " 'meson': ['pion', 'kaon'],\n",
       " 'quark': ['u', 'd', 's'],\n",
       " 'lepton': ['electron', 'muon']}"
      ]
     },
     "execution_count": 18,
     "metadata": {},
     "output_type": "execute_result"
    }
   ],
   "source": [
    "particles = { 'boson':['Z', 'gluon', 'W', 'photon'], 'meson':['pion', 'kaon'], 'quark':['u','d','s'], 'lepton':['electron', 'muon']}\n",
    "particles"
   ]
  },
  {
   "cell_type": "code",
   "execution_count": 19,
   "id": "beIAsKXaWL1H",
   "metadata": {
    "colab": {
     "base_uri": "https://localhost:8080/"
    },
    "id": "beIAsKXaWL1H",
    "outputId": "257f0dad-45a2-4b01-a9a2-9e0f6547612c"
   },
   "outputs": [
    {
     "data": {
      "text/plain": [
       "{'boson': ['Z', 'gluon', 'W', 'photon'],\n",
       " 'meson': ['pion', 'kaon'],\n",
       " 'quark': ['u', 'd', 's'],\n",
       " 'lepton': ['electron', 'muon', 'tau']}"
      ]
     },
     "execution_count": 19,
     "metadata": {},
     "output_type": "execute_result"
    }
   ],
   "source": [
    "particles['lepton'].append('tau')\n",
    "particles"
   ]
  },
  {
   "cell_type": "code",
   "execution_count": 20,
   "id": "Xll9d3cKWN9K",
   "metadata": {
    "colab": {
     "base_uri": "https://localhost:8080/"
    },
    "id": "Xll9d3cKWN9K",
    "outputId": "630fbdf4-bbf0-47d3-9412-bcbf8af05c90"
   },
   "outputs": [
    {
     "data": {
      "text/plain": [
       "dict_keys(['boson', 'meson', 'quark', 'lepton'])"
      ]
     },
     "execution_count": 20,
     "metadata": {},
     "output_type": "execute_result"
    }
   ],
   "source": [
    "particles.keys()"
   ]
  },
  {
   "cell_type": "code",
   "execution_count": 21,
   "id": "tYr9vRq_WQ7e",
   "metadata": {
    "colab": {
     "base_uri": "https://localhost:8080/"
    },
    "id": "tYr9vRq_WQ7e",
    "outputId": "29edb198-393a-47bd-8d7b-535e4c0ed99b"
   },
   "outputs": [
    {
     "data": {
      "text/plain": [
       "['pion', 'kaon']"
      ]
     },
     "execution_count": 21,
     "metadata": {},
     "output_type": "execute_result"
    }
   ],
   "source": [
    "particles['meson']"
   ]
  },
  {
   "cell_type": "code",
   "execution_count": null,
   "id": "xTFfJMb5WnM8",
   "metadata": {
    "id": "xTFfJMb5WnM8"
   },
   "outputs": [],
   "source": []
  },
  {
   "cell_type": "markdown",
   "id": "da8776bc",
   "metadata": {
    "id": "da8776bc"
   },
   "source": [
    "\n",
    "## Control Structures and Loops\n",
    "\n",
    "Python provides standard control structures like if-else statements and loops (for and while).\n"
   ]
  },
  {
   "cell_type": "code",
   "execution_count": 22,
   "id": "e56aa794",
   "metadata": {
    "colab": {
     "base_uri": "https://localhost:8080/"
    },
    "id": "e56aa794",
    "outputId": "a3f526ca-c1cb-40e1-d3dc-5d0fdefc728f"
   },
   "outputs": [
    {
     "name": "stdin",
     "output_type": "stream",
     "text": [
      "insert a number:  2\n"
     ]
    },
    {
     "name": "stdout",
     "output_type": "stream",
     "text": [
      "x > 1\n"
     ]
    }
   ],
   "source": [
    "# If - elif - else example\n",
    "x = float(input(\"insert a number: \"))\n",
    "if x < 0 :\n",
    "    print(\"x > 1\")\n",
    "elif x < 1:\n",
    "    print(\"0 < x < 1\")\n",
    "else:\n",
    "    print(\"x > 1\")"
   ]
  },
  {
   "cell_type": "code",
   "execution_count": 23,
   "id": "5ae13b40",
   "metadata": {
    "colab": {
     "base_uri": "https://localhost:8080/"
    },
    "id": "5ae13b40",
    "outputId": "b35dad82-8927-4252-9a9c-9adde2a6ce08"
   },
   "outputs": [
    {
     "name": "stdout",
     "output_type": "stream",
     "text": [
      "i: 1\t i^2: 1\n",
      "i: 3\t i^2: 9\n",
      "i: 5\t i^2: 25\n",
      "i: 7\t i^2: 49\n",
      "i: 9\t i^2: 81\n"
     ]
    }
   ],
   "source": [
    "# For example\n",
    "for i in range(1,11,2):\n",
    "    print(\"i: {0}\\t i^2: {1}\".format(i,i**2))"
   ]
  },
  {
   "cell_type": "code",
   "execution_count": null,
   "id": "88843022",
   "metadata": {
    "id": "88843022"
   },
   "outputs": [],
   "source": []
  },
  {
   "cell_type": "markdown",
   "id": "87a36c4f",
   "metadata": {
    "id": "87a36c4f"
   },
   "source": [
    "\n",
    "## Functions in Python\n",
    "\n",
    "Functions in Python are defined using the `def` keyword. They can have parameters and return values.\n",
    "The generic structure of a function is"
   ]
  },
  {
   "cell_type": "code",
   "execution_count": null,
   "id": "59faf157",
   "metadata": {
    "id": "59faf157"
   },
   "outputs": [],
   "source": [
    "def function(arg1, arg2, arg3):\n",
    "    statements\n",
    "    return value"
   ]
  },
  {
   "cell_type": "markdown",
   "id": "3f38bfd7",
   "metadata": {
    "id": "3f38bfd7"
   },
   "source": [
    "A function is defined by its name and its arguments. But there is no return type nor you need to specify the type of arguments. Any object can be the input to any function. If a function does not return a value, a None value is returned automatically"
   ]
  },
  {
   "cell_type": "code",
   "execution_count": 24,
   "id": "7dd4ecff",
   "metadata": {
    "colab": {
     "base_uri": "https://localhost:8080/"
    },
    "id": "7dd4ecff",
    "outputId": "97b47a9e-4ea8-432a-c89f-ad9395a41bec"
   },
   "outputs": [
    {
     "name": "stdout",
     "output_type": "stream",
     "text": [
      "Hello, Alice!\n"
     ]
    }
   ],
   "source": [
    "# Defining a simple function\n",
    "def greet(name):\n",
    "    return \"Hello, \" + name + \"!\"\n",
    "\n",
    "# Using the function\n",
    "print(greet(\"Alice\"))"
   ]
  },
  {
   "cell_type": "code",
   "execution_count": null,
   "id": "690d8566-0f04-4e63-83d7-dbc22946fcc2",
   "metadata": {},
   "outputs": [],
   "source": []
  },
  {
   "cell_type": "markdown",
   "id": "ce8f6162",
   "metadata": {
    "id": "ce8f6162"
   },
   "source": [
    "## Plotting"
   ]
  },
  {
   "cell_type": "code",
   "execution_count": 29,
   "id": "501455af",
   "metadata": {
    "colab": {
     "base_uri": "https://localhost:8080/",
     "height": 489
    },
    "id": "501455af",
    "outputId": "2f64337c-a1d5-452d-9bad-769ab05d6297"
   },
   "outputs": [
    {
     "name": "stdout",
     "output_type": "stream",
     "text": [
      "v0_x: 0.707 m/s \t v0_y: 0.707 m/s\n"
     ]
    },
    {
     "data": {
      "image/png": "[encoded data removed]",
      "text/plain": [
       "<Figure size 640x480 with 1 Axes>"
      ]
     },
     "metadata": {},
     "output_type": "display_data"
    }
   ],
   "source": [
    "## import libraries\n",
    "import matplotlib.pyplot as plt\n",
    "import math\n",
    "\n",
    "# initial conditions\n",
    "g = 9.8\n",
    "h = 0.\n",
    "theta = math.radians(45.)\n",
    "v0 = 1.\n",
    "dt=0.01\n",
    "\n",
    "#compute velocity components\n",
    "v0x = v0*math.cos(theta)\n",
    "v0y = v0*math.sin(theta)\n",
    "print(\"v0_x: %.3f m/s \\t v0_y: %.3f m/s\"%(v0x,v0y))\n",
    "\n",
    "t=0.\n",
    "x=[]\n",
    "y=[]\n",
    "xi=0\n",
    "yi=h\n",
    "\n",
    "while yi>=0:\n",
    "    x.append(xi)\n",
    "    y.append(yi)\n",
    "    t+=dt\n",
    "    xi=v0x*t\n",
    "    yi=h+v0y*t-0.5*g*t*t\n",
    "\n",
    "\n",
    "plt.title('motion under gravity')\n",
    "plt.xlabel(\"x [m]\")\n",
    "plt.ylabel(\"y [m]\")\n",
    "plt.grid(True)\n",
    "plt.plot(x,y, label=\"trajectory\", color='red', marker='.')\n",
    "plt.legend()\n",
    "plt.show()"
   ]
  },
  {
   "cell_type": "markdown",
   "id": "28xzK5_BWqDS",
   "metadata": {
    "id": "28xzK5_BWqDS"
   },
   "source": [
    "List comprehension\n",
    "\n",
    "the basic expression is"
   ]
  },
  {
   "cell_type": "code",
   "execution_count": null,
   "id": "08nh07RSldXm",
   "metadata": {
    "id": "08nh07RSldXm"
   },
   "outputs": [],
   "source": [
    "[ expression for val in collection if some_condition ]"
   ]
  },
  {
   "cell_type": "code",
   "execution_count": 30,
   "id": "UFYpK9UbWtP-",
   "metadata": {
    "colab": {
     "base_uri": "https://localhost:8080/"
    },
    "id": "UFYpK9UbWtP-",
    "outputId": "2fb3080c-a459-4368-ae09-52551017bc36"
   },
   "outputs": [
    {
     "name": "stdout",
     "output_type": "stream",
     "text": [
      "v0_x: 7.071 m/s \t v0_y: 7.071 m/s\n",
      "[0.0, 0.01, 0.02, 0.03, 0.04, 0.05, 0.06, 0.07, 0.08, 0.09]\n",
      "total steps:\t 145 \n",
      "last x:\t\t 10.18\n",
      "last y:\t\t 0.022\n"
     ]
    }
   ],
   "source": [
    "import numpy as np\n",
    "import math\n",
    "%matplotlib inline\n",
    "\n",
    "# initial conditions\n",
    "g = 9.8\n",
    "h = 0.\n",
    "theta = math.radians(45)\n",
    "v0 = 10.\n",
    "dt=0.01\n",
    "\n",
    "#compute velocity components\n",
    "v0x = v0*math.cos(theta)\n",
    "v0y = v0*math.sin(theta)\n",
    "print(\"v0_x: %.3f m/s \\t v0_y: %.3f m/s\"%(v0x,v0y))\n",
    "\n",
    "x0 = 0\n",
    "y0 = h\n",
    "\n",
    "def x(t):\n",
    "    return x0+v0x*t\n",
    "def y(t):\n",
    "    return y0+v0y*t-0.5*g*t*t\n",
    "\n",
    "\n",
    "# generate list of times for sampling\n",
    "times = np.arange(0., 1000., 0.01).tolist()\n",
    "\n",
    "#print first 10 elements\n",
    "print(times[:10])\n",
    "\n",
    "# compute x(t_i)\n",
    "xi = [ x(t) for t in times if y(t)>=0.]\n",
    "\n",
    "# compute y(t_i)\n",
    "yi = [ y(t) for t in times if y(t)>=0. ]\n",
    "\n",
    "print( \"total steps:\\t %-4d\"%len(xi))\n",
    "print( \"last x:\\t\\t %.2f\"%xi[-1])\n",
    "print( \"last y:\\t\\t %.3f\"%yi[-1])"
   ]
  },
  {
   "cell_type": "code",
   "execution_count": null,
   "id": "-u6h_-HlXCKu",
   "metadata": {
    "id": "-u6h_-HlXCKu"
   },
   "outputs": [],
   "source": []
  },
  {
   "cell_type": "markdown",
   "id": "MVFwnQ7PZSSq",
   "metadata": {
    "id": "MVFwnQ7PZSSq"
   },
   "source": [
    "**Exercise 1**\n",
    "\n",
    "Create a plot that shows various mathematical functions (sqrt(x), x, log(x), ...) to observe and compare their behaviors in the range [0, 2]."
   ]
  },
  {
   "cell_type": "code",
   "execution_count": null,
   "id": "f1c629a1-a123-4094-950c-18b25f820fab",
   "metadata": {},
   "outputs": [],
   "source": []
  },
  {
   "cell_type": "code",
   "execution_count": null,
   "id": "a2269241-81fc-43e5-85f2-e0af6b63068a",
   "metadata": {},
   "outputs": [],
   "source": []
  },
  {
   "cell_type": "code",
   "execution_count": null,
   "id": "34f16007-587b-4350-9ff6-16f74572bbee",
   "metadata": {},
   "outputs": [],
   "source": []
  },
  {
   "cell_type": "code",
   "execution_count": null,
   "id": "13a52b03-8964-41dd-9223-3f16f4bc741f",
   "metadata": {},
   "outputs": [],
   "source": []
  },
  {
   "cell_type": "code",
   "execution_count": null,
   "id": "870efa02-b9af-4daf-9e31-2d26d537a5bc",
   "metadata": {},
   "outputs": [],
   "source": []
  },
  {
   "cell_type": "code",
   "execution_count": null,
   "id": "7caa9467-eb19-4817-a69e-e146f2f09c91",
   "metadata": {},
   "outputs": [],
   "source": []
  },
  {
   "cell_type": "code",
   "execution_count": null,
   "id": "3345103b-0318-47f7-933b-91d531dbf3a8",
   "metadata": {},
   "outputs": [],
   "source": []
  },
  {
   "cell_type": "code",
   "execution_count": null,
   "id": "9fe9321e-539f-437e-98cf-6028d28872a7",
   "metadata": {},
   "outputs": [],
   "source": []
  },
  {
   "cell_type": "code",
   "execution_count": null,
   "id": "fa421787-3ac6-4024-a032-5620903fe6f3",
   "metadata": {},
   "outputs": [],
   "source": []
  },
  {
   "cell_type": "code",
   "execution_count": null,
   "id": "35bd5b8d-3f53-4e0c-998f-f33c9c432068",
   "metadata": {},
   "outputs": [],
   "source": []
  },
  {
   "cell_type": "code",
   "execution_count": null,
   "id": "af6ad267-464d-43d0-968c-79bf629cbc82",
   "metadata": {},
   "outputs": [],
   "source": []
  },
  {
   "cell_type": "code",
   "execution_count": null,
   "id": "423c5040-d30c-4983-9143-8b7a5635496f",
   "metadata": {},
   "outputs": [],
   "source": []
  },
  {
   "cell_type": "code",
   "execution_count": 31,
   "id": "55hqay5SYfZt",
   "metadata": {
    "colab": {
     "base_uri": "https://localhost:8080/",
     "height": 472
    },
    "id": "55hqay5SYfZt",
    "outputId": "326e7a05-33fd-463b-e6d2-f355beed8575"
   },
   "outputs": [
    {
     "data": {
      "image/png": "[encoded data removed]",
      "text/plain": [
       "<Figure size 640x480 with 1 Axes>"
      ]
     },
     "metadata": {},
     "output_type": "display_data"
    }
   ],
   "source": [
    "import matplotlib.pyplot as plt\n",
    "import numpy as np\n",
    "import math\n",
    "\n",
    "# see what happens when reducing the #samples to 10\n",
    "x = np.linspace(0.001, 2, 10000)\n",
    "\n",
    "plt.xlabel('x')\n",
    "plt.ylabel('f(x)')\n",
    "\n",
    "plt.title(\"Plot of basic functions\")\n",
    "\n",
    "\n",
    "plt.plot(x, np.sqrt(x), label='sqrt')\n",
    "plt.plot(x, x, label='linear')\n",
    "plt.plot(x, x**2, label='quadratic')\n",
    "plt.plot(x, x**3, label='cubic')\n",
    "plt.plot(x, 1-np.log(x), label='1-log')\n",
    "\n",
    "plt.ylim(0., 5.)\n",
    "plt.grid(True)\n",
    "plt.legend()\n",
    "\n",
    "plt.show()"
   ]
  },
  {
   "cell_type": "code",
   "execution_count": null,
   "id": "0KdWN85Yd__w",
   "metadata": {
    "id": "0KdWN85Yd__w"
   },
   "outputs": [],
   "source": []
  },
  {
   "cell_type": "code",
   "execution_count": null,
   "id": "26i8y9wqlk7r",
   "metadata": {
    "id": "26i8y9wqlk7r"
   },
   "outputs": [],
   "source": []
  },
  {
   "cell_type": "code",
   "execution_count": null,
   "id": "RlpM-yF3llXS",
   "metadata": {
    "id": "RlpM-yF3llXS"
   },
   "outputs": [],
   "source": []
  },
  {
   "cell_type": "markdown",
   "id": "61841ffd",
   "metadata": {
    "id": "61841ffd"
   },
   "source": [
    "\n",
    "# Introduction to Pandas\n",
    "\n",
    "Pandas is a powerful Python library used for data manipulation and analysis. It is particularly well-suited for working with structured data (like spreadsheets and SQL tables) and offers data structures and operations for manipulating numerical tables and time series.\n",
    "\n",
    "## Key Features of Pandas\n",
    "- DataFrame object for data manipulation with integrated indexing.\n",
    "- Tools for reading and writing data between in-memory data structures and different file formats.\n",
    "- Data alignment and integrated handling of missing data.\n",
    "- Reshaping and pivoting of datasets.\n",
    "- Label-based slicing, indexing, and subsetting of large datasets.\n",
    "- Data structure column insertion and deletion.\n",
    "- Group by functionality for aggregating and transforming data.\n",
    "- High performance merging and joining of data.\n",
    "- Time series functionality.\n"
   ]
  },
  {
   "cell_type": "markdown",
   "id": "f27c1b32",
   "metadata": {
    "id": "f27c1b32"
   },
   "source": [
    "\n",
    "# Loading Data in Pandas\n",
    "\n",
    "Pandas provides various functions like `read_csv()`, `read_excel()`, and `read_json()` to load data from different file formats into DataFrame objects.\n",
    "\n",
    "## Example: Loading a CSV File\n",
    "```python\n",
    "import pandas as pd\n",
    "\n",
    "# Loading a CSV file into a DataFrame\n",
    "file_path = 'path_to_file.csv'\n",
    "df = pd.read_csv(file_path)\n",
    "\n",
    "# Displaying the first few rows of the DataFrame\n",
    "print(df.head())\n",
    "```\n",
    "\n",
    "## Example: Loading the Iris Dataset\n",
    "The Iris dataset is a famous dataset that contains measurements for iris flowers of three different species. We can load it directly using pandas."
   ]
  },
  {
   "cell_type": "code",
   "execution_count": 32,
   "id": "6XHQxZGsgQSV",
   "metadata": {
    "colab": {
     "base_uri": "https://localhost:8080/",
     "height": 419
    },
    "id": "6XHQxZGsgQSV",
    "outputId": "762b1ac9-41c4-4cf1-9695-9fb1376d527c"
   },
   "outputs": [
    {
     "data": {
      "text/html": [
       "<div>\n",
       "<style scoped>\n",
       "    .dataframe tbody tr th:only-of-type {\n",
       "        vertical-align: middle;\n",
       "    }\n",
       "\n",
       "    .dataframe tbody tr th {\n",
       "        vertical-align: top;\n",
       "    }\n",
       "\n",
       "    .dataframe thead th {\n",
       "        text-align: right;\n",
       "    }\n",
       "</style>\n",
       "<table border=\"1\" class=\"dataframe\">\n",
       "  <thead>\n",
       "    <tr style=\"text-align: right;\">\n",
       "      <th></th>\n",
       "      <th>sepal_length</th>\n",
       "      <th>sepal_width</th>\n",
       "      <th>petal_length</th>\n",
       "      <th>petal_width</th>\n",
       "      <th>species</th>\n",
       "    </tr>\n",
       "  </thead>\n",
       "  <tbody>\n",
       "    <tr>\n",
       "      <th>0</th>\n",
       "      <td>5.1</td>\n",
       "      <td>3.5</td>\n",
       "      <td>1.4</td>\n",
       "      <td>0.2</td>\n",
       "      <td>setosa</td>\n",
       "    </tr>\n",
       "    <tr>\n",
       "      <th>1</th>\n",
       "      <td>4.9</td>\n",
       "      <td>3.0</td>\n",
       "      <td>1.4</td>\n",
       "      <td>0.2</td>\n",
       "      <td>setosa</td>\n",
       "    </tr>\n",
       "    <tr>\n",
       "      <th>2</th>\n",
       "      <td>4.7</td>\n",
       "      <td>3.2</td>\n",
       "      <td>1.3</td>\n",
       "      <td>0.2</td>\n",
       "      <td>setosa</td>\n",
       "    </tr>\n",
       "    <tr>\n",
       "      <th>3</th>\n",
       "      <td>4.6</td>\n",
       "      <td>3.1</td>\n",
       "      <td>1.5</td>\n",
       "      <td>0.2</td>\n",
       "      <td>setosa</td>\n",
       "    </tr>\n",
       "    <tr>\n",
       "      <th>4</th>\n",
       "      <td>5.0</td>\n",
       "      <td>3.6</td>\n",
       "      <td>1.4</td>\n",
       "      <td>0.2</td>\n",
       "      <td>setosa</td>\n",
       "    </tr>\n",
       "    <tr>\n",
       "      <th>...</th>\n",
       "      <td>...</td>\n",
       "      <td>...</td>\n",
       "      <td>...</td>\n",
       "      <td>...</td>\n",
       "      <td>...</td>\n",
       "    </tr>\n",
       "    <tr>\n",
       "      <th>145</th>\n",
       "      <td>6.7</td>\n",
       "      <td>3.0</td>\n",
       "      <td>5.2</td>\n",
       "      <td>2.3</td>\n",
       "      <td>virginica</td>\n",
       "    </tr>\n",
       "    <tr>\n",
       "      <th>146</th>\n",
       "      <td>6.3</td>\n",
       "      <td>2.5</td>\n",
       "      <td>5.0</td>\n",
       "      <td>1.9</td>\n",
       "      <td>virginica</td>\n",
       "    </tr>\n",
       "    <tr>\n",
       "      <th>147</th>\n",
       "      <td>6.5</td>\n",
       "      <td>3.0</td>\n",
       "      <td>5.2</td>\n",
       "      <td>2.0</td>\n",
       "      <td>virginica</td>\n",
       "    </tr>\n",
       "    <tr>\n",
       "      <th>148</th>\n",
       "      <td>6.2</td>\n",
       "      <td>3.4</td>\n",
       "      <td>5.4</td>\n",
       "      <td>2.3</td>\n",
       "      <td>virginica</td>\n",
       "    </tr>\n",
       "    <tr>\n",
       "      <th>149</th>\n",
       "      <td>5.9</td>\n",
       "      <td>3.0</td>\n",
       "      <td>5.1</td>\n",
       "      <td>1.8</td>\n",
       "      <td>virginica</td>\n",
       "    </tr>\n",
       "  </tbody>\n",
       "</table>\n",
       "<p>150 rows × 5 columns</p>\n",
       "</div>"
      ],
      "text/plain": [
       "     sepal_length  sepal_width  petal_length  petal_width    species\n",
       "0             5.1          3.5           1.4          0.2     setosa\n",
       "1             4.9          3.0           1.4          0.2     setosa\n",
       "2             4.7          3.2           1.3          0.2     setosa\n",
       "3             4.6          3.1           1.5          0.2     setosa\n",
       "4             5.0          3.6           1.4          0.2     setosa\n",
       "..            ...          ...           ...          ...        ...\n",
       "145           6.7          3.0           5.2          2.3  virginica\n",
       "146           6.3          2.5           5.0          1.9  virginica\n",
       "147           6.5          3.0           5.2          2.0  virginica\n",
       "148           6.2          3.4           5.4          2.3  virginica\n",
       "149           5.9          3.0           5.1          1.8  virginica\n",
       "\n",
       "[150 rows x 5 columns]"
      ]
     },
     "metadata": {},
     "output_type": "display_data"
    }
   ],
   "source": [
    "import pandas as pd\n",
    "\n",
    "# Load the iris dataset\n",
    "iris_df = pd.read_csv('https://raw.githubusercontent.com/mwaskom/seaborn-data/master/iris.csv')\n",
    "\n",
    "display(iris_df)"
   ]
  },
  {
   "cell_type": "code",
   "execution_count": 34,
   "id": "Jkje5jdFgm-_",
   "metadata": {
    "colab": {
     "base_uri": "https://localhost:8080/"
    },
    "id": "Jkje5jdFgm-_",
    "outputId": "6403d9fc-cb2b-48dd-da75-ea500d02136f"
   },
   "outputs": [
    {
     "data": {
      "text/html": [
       "<div>\n",
       "<style scoped>\n",
       "    .dataframe tbody tr th:only-of-type {\n",
       "        vertical-align: middle;\n",
       "    }\n",
       "\n",
       "    .dataframe tbody tr th {\n",
       "        vertical-align: top;\n",
       "    }\n",
       "\n",
       "    .dataframe thead th {\n",
       "        text-align: right;\n",
       "    }\n",
       "</style>\n",
       "<table border=\"1\" class=\"dataframe\">\n",
       "  <thead>\n",
       "    <tr style=\"text-align: right;\">\n",
       "      <th></th>\n",
       "      <th>sepal_length</th>\n",
       "      <th>sepal_width</th>\n",
       "      <th>petal_length</th>\n",
       "      <th>petal_width</th>\n",
       "      <th>species</th>\n",
       "    </tr>\n",
       "  </thead>\n",
       "  <tbody>\n",
       "    <tr>\n",
       "      <th>0</th>\n",
       "      <td>5.1</td>\n",
       "      <td>3.5</td>\n",
       "      <td>1.4</td>\n",
       "      <td>0.2</td>\n",
       "      <td>setosa</td>\n",
       "    </tr>\n",
       "    <tr>\n",
       "      <th>1</th>\n",
       "      <td>4.9</td>\n",
       "      <td>3.0</td>\n",
       "      <td>1.4</td>\n",
       "      <td>0.2</td>\n",
       "      <td>setosa</td>\n",
       "    </tr>\n",
       "    <tr>\n",
       "      <th>2</th>\n",
       "      <td>4.7</td>\n",
       "      <td>3.2</td>\n",
       "      <td>1.3</td>\n",
       "      <td>0.2</td>\n",
       "      <td>setosa</td>\n",
       "    </tr>\n",
       "    <tr>\n",
       "      <th>3</th>\n",
       "      <td>4.6</td>\n",
       "      <td>3.1</td>\n",
       "      <td>1.5</td>\n",
       "      <td>0.2</td>\n",
       "      <td>setosa</td>\n",
       "    </tr>\n",
       "    <tr>\n",
       "      <th>4</th>\n",
       "      <td>5.0</td>\n",
       "      <td>3.6</td>\n",
       "      <td>1.4</td>\n",
       "      <td>0.2</td>\n",
       "      <td>setosa</td>\n",
       "    </tr>\n",
       "  </tbody>\n",
       "</table>\n",
       "</div>"
      ],
      "text/plain": [
       "   sepal_length  sepal_width  petal_length  petal_width species\n",
       "0           5.1          3.5           1.4          0.2  setosa\n",
       "1           4.9          3.0           1.4          0.2  setosa\n",
       "2           4.7          3.2           1.3          0.2  setosa\n",
       "3           4.6          3.1           1.5          0.2  setosa\n",
       "4           5.0          3.6           1.4          0.2  setosa"
      ]
     },
     "metadata": {},
     "output_type": "display_data"
    }
   ],
   "source": [
    "# Display the first few rows of the iris dataset\n",
    "display(iris_df.head())"
   ]
  },
  {
   "cell_type": "markdown",
   "id": "e230d0f1",
   "metadata": {
    "id": "e230d0f1"
   },
   "source": [
    "\n",
    "# Basic Operations with Pandas\n",
    "\n",
    "Once we have data in a DataFrame, we can perform a variety of operations. Some basic and commonly used operations include viewing the data, selecting specific data, filtering, and basic statistics.\n",
    "\n",
    "## Viewing Data\n",
    "- `head()`: View the first few rows of the DataFrame.\n",
    "- `tail()`: View the last few rows of the DataFrame.\n",
    "- `describe()`: Get a summary of the statistics of the DataFrame.\n",
    "\n",
    "## Selecting Data\n",
    "- Selecting a column: `df['column_name']`\n",
    "- Selecting rows by position: `df.iloc[0]` (first row), `df.iloc[-1]` (last row)\n",
    "\n",
    "## Filtering Data\n",
    "- `df[df['column_name'] > value]`: Filter rows where the column value is greater than a specified value.\n",
    "\n",
    "## Example with the Iris Dataset\n"
   ]
  },
  {
   "cell_type": "code",
   "execution_count": 35,
   "id": "p6DhUh8wg3-0",
   "metadata": {
    "colab": {
     "base_uri": "https://localhost:8080/"
    },
    "id": "p6DhUh8wg3-0",
    "outputId": "56efcc3b-3816-4792-a8d6-309e2bf28751"
   },
   "outputs": [
    {
     "name": "stdout",
     "output_type": "stream",
     "text": [
      "   sepal_length  sepal_width  petal_length  petal_width species\n",
      "0           5.1          3.5           1.4          0.2  setosa\n",
      "1           4.9          3.0           1.4          0.2  setosa\n",
      "2           4.7          3.2           1.3          0.2  setosa\n",
      "3           4.6          3.1           1.5          0.2  setosa\n",
      "4           5.0          3.6           1.4          0.2  setosa\n"
     ]
    }
   ],
   "source": [
    "# Viewing the first few rows\n",
    "print(iris_df.head())"
   ]
  },
  {
   "cell_type": "code",
   "execution_count": 36,
   "id": "I8USV-Ykg4i-",
   "metadata": {
    "colab": {
     "base_uri": "https://localhost:8080/"
    },
    "id": "I8USV-Ykg4i-",
    "outputId": "43ea3412-ebf0-46ee-9cdf-831c13e0eed3"
   },
   "outputs": [
    {
     "name": "stdout",
     "output_type": "stream",
     "text": [
      "       sepal_length  sepal_width  petal_length  petal_width\n",
      "count    150.000000   150.000000    150.000000   150.000000\n",
      "mean       5.843333     3.057333      3.758000     1.199333\n",
      "std        0.828066     0.435866      1.765298     0.762238\n",
      "min        4.300000     2.000000      1.000000     0.100000\n",
      "25%        5.100000     2.800000      1.600000     0.300000\n",
      "50%        5.800000     3.000000      4.350000     1.300000\n",
      "75%        6.400000     3.300000      5.100000     1.800000\n",
      "max        7.900000     4.400000      6.900000     2.500000\n"
     ]
    }
   ],
   "source": [
    "# Summary statistics\n",
    "print(iris_df.describe())"
   ]
  },
  {
   "cell_type": "code",
   "execution_count": 37,
   "id": "zVp_gn7RhFRm",
   "metadata": {
    "colab": {
     "base_uri": "https://localhost:8080/"
    },
    "id": "zVp_gn7RhFRm",
    "outputId": "d3e4d4d0-b75f-4961-8c94-a2feec3bab28"
   },
   "outputs": [
    {
     "name": "stdout",
     "output_type": "stream",
     "text": [
      "0    5.1\n",
      "1    4.9\n",
      "2    4.7\n",
      "3    4.6\n",
      "4    5.0\n",
      "Name: sepal_length, dtype: float64\n"
     ]
    }
   ],
   "source": [
    "# Selecting a specific column\n",
    "print(iris_df['sepal_length'].head())"
   ]
  },
  {
   "cell_type": "code",
   "execution_count": 38,
   "id": "5awORv0BhGkh",
   "metadata": {
    "colab": {
     "base_uri": "https://localhost:8080/"
    },
    "id": "5awORv0BhGkh",
    "outputId": "b42662c9-a547-4226-daaf-e0b3b969cbe0"
   },
   "outputs": [
    {
     "name": "stdout",
     "output_type": "stream",
     "text": [
      "   sepal_length  sepal_width  petal_length  petal_width species\n",
      "0           5.1          3.5           1.4          0.2  setosa\n",
      "1           4.9          3.0           1.4          0.2  setosa\n",
      "2           4.7          3.2           1.3          0.2  setosa\n",
      "3           4.6          3.1           1.5          0.2  setosa\n",
      "4           5.0          3.6           1.4          0.2  setosa\n"
     ]
    }
   ],
   "source": [
    "# Filtering rows\n",
    "filtered_df = iris_df[iris_df['species'] == 'setosa']\n",
    "print(filtered_df.head())"
   ]
  },
  {
   "cell_type": "code",
   "execution_count": 39,
   "id": "A1EFH0v-hIBU",
   "metadata": {
    "colab": {
     "base_uri": "https://localhost:8080/",
     "height": 564
    },
    "id": "A1EFH0v-hIBU",
    "outputId": "9fce413a-2099-4ffa-b19d-b7c694bbddd3"
   },
   "outputs": [
    {
     "data": {
      "image/png": "[encoded data removed]",
      "text/plain": [
       "<Figure size 1000x600 with 1 Axes>"
      ]
     },
     "metadata": {},
     "output_type": "display_data"
    }
   ],
   "source": [
    "import matplotlib.pyplot as plt\n",
    "\n",
    "plt.figure(figsize=(10, 6))\n",
    "plt.scatter(iris_df['sepal_length'], iris_df['sepal_width'], c='blue', marker='o', label='Sepal')\n",
    "plt.title('Iris Sepal Length vs Width')\n",
    "plt.xlabel('Sepal Length (cm)')\n",
    "plt.ylabel('Sepal Width (cm)')\n",
    "plt.legend()\n",
    "plt.show()"
   ]
  },
  {
   "cell_type": "code",
   "execution_count": null,
   "id": "W5EER8X3iQpY",
   "metadata": {
    "id": "W5EER8X3iQpY"
   },
   "outputs": [],
   "source": []
  },
  {
   "cell_type": "code",
   "execution_count": null,
   "id": "e2d4ca73-f41f-435f-b549-af7c7293b6d9",
   "metadata": {},
   "outputs": [],
   "source": []
  },
  {
   "cell_type": "markdown",
   "id": "f4MAEJWTi8YY",
   "metadata": {
    "id": "f4MAEJWTi8YY"
   },
   "source": [
    "**Exercise 2**\n",
    "\n",
    "Plot some features of the Iris dataset (histograms, bar charts, ...)."
   ]
  },
  {
   "cell_type": "code",
   "execution_count": null,
   "id": "4ed9b2bb-6995-48e1-9b07-915b71e2f780",
   "metadata": {},
   "outputs": [],
   "source": []
  },
  {
   "cell_type": "code",
   "execution_count": null,
   "id": "2f93adf1-eadc-40c4-9fbe-f7c82756d111",
   "metadata": {},
   "outputs": [],
   "source": []
  },
  {
   "cell_type": "code",
   "execution_count": null,
   "id": "1b561d40-d39b-4903-bf39-2a0218f4eeae",
   "metadata": {},
   "outputs": [],
   "source": []
  },
  {
   "cell_type": "code",
   "execution_count": null,
   "id": "d6c00dfc-a160-4d80-931a-2399ef4f59a3",
   "metadata": {},
   "outputs": [],
   "source": []
  },
  {
   "cell_type": "code",
   "execution_count": null,
   "id": "5b0e3294-0842-4a2f-a616-cd654d4693da",
   "metadata": {},
   "outputs": [],
   "source": []
  },
  {
   "cell_type": "code",
   "execution_count": null,
   "id": "ee024948-ac01-490a-853a-d88dca7f4bee",
   "metadata": {},
   "outputs": [],
   "source": []
  },
  {
   "cell_type": "code",
   "execution_count": null,
   "id": "636b55d4-84e2-4d61-885b-a78a19bec373",
   "metadata": {},
   "outputs": [],
   "source": []
  },
  {
   "cell_type": "code",
   "execution_count": null,
   "id": "a6bed15d-13d1-4ba9-a43d-db2ab2bb73fc",
   "metadata": {},
   "outputs": [],
   "source": []
  },
  {
   "cell_type": "code",
   "execution_count": null,
   "id": "513a2a47-0f09-4d53-b977-bcc767a90fd7",
   "metadata": {},
   "outputs": [],
   "source": []
  },
  {
   "cell_type": "code",
   "execution_count": null,
   "id": "72180d78-61f5-4dee-9397-f2454d368e04",
   "metadata": {},
   "outputs": [],
   "source": []
  },
  {
   "cell_type": "code",
   "execution_count": 40,
   "id": "GEnaoRVci6JA",
   "metadata": {
    "colab": {
     "base_uri": "https://localhost:8080/",
     "height": 564
    },
    "id": "GEnaoRVci6JA",
    "outputId": "60f545cf-feaa-4436-a83b-a552a7730ce6"
   },
   "outputs": [
    {
     "data": {
      "image/png": "[encoded data removed]",
      "text/plain": [
       "<Figure size 1000x600 with 1 Axes>"
      ]
     },
     "metadata": {},
     "output_type": "display_data"
    }
   ],
   "source": [
    "plt.figure(figsize=(10, 6))\n",
    "plt.scatter(iris_df['petal_length'], iris_df['petal_width'], s=32, alpha=0.8, color='green', label='Petal')\n",
    "plt.title('Iris Petal Length vs Width')\n",
    "plt.xlabel('Petal Length (cm)')\n",
    "plt.ylabel('Petal Width (cm)')\n",
    "\n",
    "# Customize the axes\n",
    "plt.gca().spines['top'].set_visible(False)\n",
    "plt.gca().spines['right'].set_visible(False)\n",
    "\n",
    "plt.legend()\n",
    "plt.show()"
   ]
  },
  {
   "cell_type": "code",
   "execution_count": 41,
   "id": "6iD20dH6i6ZD",
   "metadata": {
    "colab": {
     "base_uri": "https://localhost:8080/",
     "height": 564
    },
    "id": "6iD20dH6i6ZD",
    "outputId": "e3046de8-37e1-40df-80e0-c4462264385a"
   },
   "outputs": [
    {
     "data": {
      "image/png": "[encoded data removed]",
      "text/plain": [
       "<Figure size 1000x600 with 1 Axes>"
      ]
     },
     "metadata": {},
     "output_type": "display_data"
    }
   ],
   "source": [
    "import seaborn as sns\n",
    "\n",
    "plt.figure(figsize=(10, 6))\n",
    "iris_df.groupby('species').size().plot(kind='barh', color=sns.palettes.mpl_palette('Dark2'))\n",
    "\n",
    "# Customize the axes\n",
    "plt.gca().spines['top'].set_visible(False)\n",
    "plt.gca().spines['right'].set_visible(False)\n",
    "\n",
    "plt.title('Count by Species in the Iris Dataset')\n",
    "plt.xlabel('Count')\n",
    "plt.ylabel('Species')\n",
    "plt.show()"
   ]
  },
  {
   "cell_type": "code",
   "execution_count": 42,
   "id": "5AXtTDUOjD1O",
   "metadata": {
    "colab": {
     "base_uri": "https://localhost:8080/",
     "height": 564
    },
    "id": "5AXtTDUOjD1O",
    "outputId": "3daa867a-c897-47cd-febc-2461207a44b0"
   },
   "outputs": [
    {
     "data": {
      "image/png": "[encoded data removed]",
      "text/plain": [
       "<Figure size 1000x600 with 1 Axes>"
      ]
     },
     "metadata": {},
     "output_type": "display_data"
    }
   ],
   "source": [
    "plt.figure(figsize=(10, 6))\n",
    "iris_df['petal_width'].plot(kind='hist', bins=20, color='purple', title='Petal Width Distribution')\n",
    "\n",
    "# Customize the axes\n",
    "plt.gca().spines['top'].set_visible(False)\n",
    "plt.gca().spines['right'].set_visible(False)\n",
    "\n",
    "plt.xlabel('Petal Width (cm)')\n",
    "plt.ylabel('Frequency')\n",
    "plt.show()"
   ]
  },
  {
   "cell_type": "code",
   "execution_count": 43,
   "id": "cMSEb3M3jJT9",
   "metadata": {
    "colab": {
     "base_uri": "https://localhost:8080/",
     "height": 484
    },
    "id": "cMSEb3M3jJT9",
    "outputId": "1d80ba59-4125-4be0-dd11-40977e94670f"
   },
   "outputs": [
    {
     "name": "stderr",
     "output_type": "stream",
     "text": [
      "/var/folders/h9/ccpmv6014r170zs5rfn5dlgw0000gn/T/ipykernel_6195/1526693116.py:6: FutureWarning: \n",
      "\n",
      "Passing `palette` without assigning `hue` is deprecated and will be removed in v0.14.0. Assign the `y` variable to `hue` and set `legend=False` for the same effect.\n",
      "\n",
      "  sns.violinplot(data=iris_df, x='petal_length', y='species', inner='stick', palette='Dark2')\n"
     ]
    },
    {
     "data": {
      "image/png": "[encoded data removed]",
      "text/plain": [
       "<Figure size 1200x360 with 1 Axes>"
      ]
     },
     "metadata": {},
     "output_type": "display_data"
    }
   ],
   "source": [
    "# Determine the size of the plot based on the number of unique species\n",
    "figsize = (12, 1.2 * len(iris_df['species'].unique()))\n",
    "plt.figure(figsize=figsize)\n",
    "\n",
    "# Create a violin plot\n",
    "sns.violinplot(data=iris_df, x='petal_length', y='species', inner='stick', palette='Dark2')\n",
    "\n",
    "# Customize the plot to remove all spines\n",
    "sns.despine(top=True, right=True, bottom=True, left=True)\n",
    "\n",
    "plt.title('Petal Length Distribution by Species')\n",
    "plt.show()"
   ]
  },
  {
   "cell_type": "code",
   "execution_count": null,
   "id": "-H8uHAiyjMKW",
   "metadata": {
    "id": "-H8uHAiyjMKW"
   },
   "outputs": [],
   "source": []
  },
  {
   "cell_type": "code",
   "execution_count": null,
   "id": "780d5f34-8018-4e2f-98eb-39d5fef9cf55",
   "metadata": {},
   "outputs": [],
   "source": []
  },
  {
   "cell_type": "code",
   "execution_count": null,
   "id": "946322aa-ebd9-4471-8a69-5ecc3c074c46",
   "metadata": {},
   "outputs": [],
   "source": []
  },
  {
   "cell_type": "code",
   "execution_count": null,
   "id": "b8487974-959f-4484-8864-66e63f097c81",
   "metadata": {},
   "outputs": [],
   "source": []
  },
  {
   "cell_type": "code",
   "execution_count": null,
   "id": "67fb297d-9b0d-42ba-a9e0-c570f70fd1cd",
   "metadata": {},
   "outputs": [],
   "source": []
  }
 ],
 "metadata": {
  "colab": {
   "provenance": []
  },
  "kernelspec": {
   "display_name": "Python 3 (ipykernel)",
   "language": "python",
   "name": "python3"
  },
  "language_info": {
   "codemirror_mode": {
    "name": "ipython",
    "version": 3
   },
   "file_extension": ".py",
   "mimetype": "text/x-python",
   "name": "python",
   "nbconvert_exporter": "python",
   "pygments_lexer": "ipython3",
   "version": "3.11.5"
  }
 },
 "nbformat": 4,
 "nbformat_minor": 5
}
